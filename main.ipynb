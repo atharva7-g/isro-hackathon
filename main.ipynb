{
 "cells": [
  {
   "cell_type": "code",
   "execution_count": 23,
   "id": "23ab3d59",
   "metadata": {},
   "outputs": [],
   "source": [
    "import matplotlib.pyplot as plt\n",
    "from collections import defaultdict\n",
    "import re"
   ]
  },
  {
   "cell_type": "code",
   "execution_count": null,
   "id": "96f911df",
   "metadata": {},
   "outputs": [],
   "source": [
    "import rasterio"
   ]
  },
  {
   "cell_type": "code",
   "execution_count": null,
   "id": "6394e20c",
   "metadata": {},
   "outputs": [],
   "source": [
    "import numpy as np"
   ]
  },
  {
   "cell_type": "code",
   "execution_count": null,
   "id": "82e00235",
   "metadata": {},
   "outputs": [],
   "source": [
    "import os"
   ]
  },
  {
   "cell_type": "code",
   "execution_count": null,
   "id": "b05beb5b",
   "metadata": {},
   "outputs": [],
   "source": [
    "from osgeo import gdal\n",
    "\n",
    "# Input directory and filenames\n",
    "image_dir = 'images'\n",
    "filenames = [\n",
    "    '3DIMG_18JUN2024_0000_L1C_SGP_V01R00_IMG_VIS.tif',\n",
    "    '3DIMG_18JUN2024_0000_L1C_SGP_V01R00_IMG_MIR.tif',\n",
    "    '3DIMG_18JUN2024_0000_L1C_SGP_V01R00_IMG_SWIR.tif',\n",
    "    '3DIMG_18JUN2024_0000_L1C_SGP_V01R00_IMG_WV.tif',\n",
    "    '3DIMG_18JUN2024_0000_L1C_SGP_V01R00_IMG_TIR1.tif',\n",
    "    '3DIMG_18JUN2024_0000_L1C_SGP_V01R00_IMG_TIR2.tif',\n",
    "]\n",
    "\n",
    "input_paths = [os.path.join(image_dir, f) for f in filenames]\n",
    "\n",
    "# Create VRT in memory\n",
    "vrt_options = gdal.BuildVRTOptions(separate=True)\n",
    "vrt = gdal.BuildVRT('stacked.vrt', input_paths, options=vrt_options)\n",
    "\n",
    "# Translate VRT to GeoTIFF\n",
    "gdal.Translate(\n",
    "    'stacked.tif',\n",
    "    vrt,\n",
    "    creationOptions=[\n",
    "        'COMPRESS=DEFLATE',\n",
    "        'TILED=YES'\n",
    "    ]\n",
    ")\n",
    "\n",
    "print(\"✅ Stacked GeoTIFF created: stacked.tif\")\n"
   ]
  },
  {
   "cell_type": "code",
   "execution_count": null,
   "id": "dbec1110",
   "metadata": {},
   "outputs": [],
   "source": [
    "# Open output file for update\n",
    "ds = gdal.Open('stacked.tif', gdal.GA_Update)\n",
    "\n",
    "# Set descriptions per band\n",
    "band_labels = [\n",
    "    'VIS', 'MIR', 'SWIR', 'WV', 'TIR1', 'TIR2'\n",
    "]\n",
    "\n",
    "\n",
    "for i, label in enumerate(band_labels, start=1):\n",
    "    band = ds.GetRasterBand(i)\n",
    "    band.SetDescription(label)\n",
    "\n",
    "ds.FlushCache()\n",
    "ds = None\n"
   ]
  },
  {
   "cell_type": "code",
   "execution_count": null,
   "id": "e15db9dd",
   "metadata": {},
   "outputs": [],
   "source": [
    "import rasterio\n",
    "\n",
    "# Open the multiband image\n",
    "with rasterio.open('stacked.tif') as src:\n",
    "    print(f\"Number of bands: {src.count}\")\n",
    "    print(f\"Width: {src.width}, Height: {src.height}\")\n",
    "    print(f\"CRS: {src.crs}\")\n",
    "    print(f\"Bounds: {src.bounds}\")\n",
    "    print(src.descriptions)\n",
    "\n",
    "    # Read metadata of each band\n",
    "    for i in range(1, src.count + 1):\n",
    "        band = src.read(i)\n",
    "        print(f\"Band {i} - dtype: {band.dtype}, shape: {band.shape}\")"
   ]
  },
  {
   "cell_type": "code",
   "execution_count": null,
   "id": "9be0e01b",
   "metadata": {},
   "outputs": [],
   "source": [
    "def normalize(array):\n",
    "    array_min, array_max = array.min(), array.max()\n",
    "    return (array - array_min) / (array_max - array_min)"
   ]
  },
  {
   "cell_type": "code",
   "execution_count": null,
   "id": "c808c44a",
   "metadata": {},
   "outputs": [],
   "source": [
    "import rasterio\n",
    "\n",
    "with rasterio.open('stacked.tif') as src:\n",
    "    band = src.read(1)\n",
    "    # band = normalize(band)\n",
    "\n",
    "plt.imshow(band, cmap='gray')\n",
    "plt.title('Band 1')\n",
    "plt.colorbar()\n",
    "plt.show()"
   ]
  },
  {
   "cell_type": "code",
   "execution_count": null,
   "id": "dcfed19d",
   "metadata": {},
   "outputs": [],
   "source": [
    "!gdalinfo stacked.tif"
   ]
  },
  {
   "cell_type": "code",
   "execution_count": null,
   "id": "32fb3ee5",
   "metadata": {},
   "outputs": [],
   "source": [
    "from glob import glob\n",
    "\n",
    "# Set directory containing the .tif files\n",
    "input_dir = \"images/INSAT3DR-L1C\"\n",
    "output_dir = \"./stacked\"\n",
    "os.makedirs(output_dir, exist_ok=True)\n",
    "\n",
    "# Define band stacking order\n",
    "band_order = ['VIS', 'SWIR', 'MIR', 'TIR1', 'TIR2', 'WV']\n",
    "\n",
    "# Group files by timestamp\n",
    "pattern = re.compile(r\"3DIMG_(\\d{2}[A-Z]{3}\\d{4})_(\\d{4})_.*_IMG_(\\w+)\\.tif\")\n",
    "grouped_files = defaultdict(dict)\n",
    "\n",
    "for filepath in glob(os.path.join(input_dir, \"*.tif\")):\n",
    "    match = pattern.search(os.path.basename(filepath))\n",
    "    if match:\n",
    "        date, time, band = match.groups()\n",
    "        timestamp = f\"{date}_{time}\"\n",
    "        grouped_files[timestamp][band] = filepath\n",
    "\n",
    "# Stack and save\n",
    "for timestamp, files_dict in grouped_files.items():\n",
    "    if all(band in files_dict for band in band_order):\n",
    "        stack = []\n",
    "        meta = None\n",
    "        for band in band_order:\n",
    "            with rasterio.open(files_dict[band]) as src:\n",
    "                data = src.read(1)\n",
    "                stack.append(data)\n",
    "                if meta is None:\n",
    "                    meta = src.meta.copy()\n",
    "        stack_array = np.stack(stack)\n",
    "        meta.update(count=len(band_order))\n",
    "        output_path = os.path.join(output_dir, f\"{timestamp}_stack.tif\")\n",
    "        with rasterio.open(output_path, \"w\", **meta) as dst:\n",
    "            dst.write(stack_array)\n",
    "        print(f\"Saved: {output_path}\")\n",
    "    else:\n",
    "        print(f\"Skipping {timestamp}: incomplete band set\")\n",
    "\n"
   ]
  },
  {
   "cell_type": "code",
   "execution_count": null,
   "id": "6affc3fe",
   "metadata": {},
   "outputs": [],
   "source": [
    "import os\n",
    "from glob import glob\n",
    "import rasterio\n",
    "import rasterio.errors\n",
    "\n",
    "input_dir = \"images/INSAT3DR-L1C\"\n",
    "unreadable_files = []\n",
    "\n",
    "for filepath in glob(os.path.join(input_dir, \"*.tif\")):\n",
    "    try:\n",
    "        with rasterio.open(filepath) as src:\n",
    "            pass\n",
    "    except rasterio.errors.RasterioIOError:\n",
    "        unreadable_files.append(filepath)\n",
    "\n",
    "if unreadable_files:\n",
    "    unreadable_files.sort()\n",
    "    print(\"Unreadable files:\")\n",
    "    for f in unreadable_files:\n",
    "        print(f)\n",
    "else:\n",
    "    print(\"All files are readable.\")\n",
    "\n"
   ]
  },
  {
   "cell_type": "code",
   "execution_count": null,
   "id": "b4006247",
   "metadata": {},
   "outputs": [],
   "source": [
    "import numpy as np\n",
    "import rasterio\n",
    "\n",
    "with rasterio.open(\"stacked/18JUN2024_0030_stack.tif\") as src:\n",
    "    img = src.read()  # shape: (C, H, W)\n",
    "    print(\"Shape:\", img.shape)\n"
   ]
  },
  {
   "cell_type": "code",
   "execution_count": null,
   "id": "d39c8461",
   "metadata": {},
   "outputs": [],
   "source": [
    "!gdalinfo \"stacked/18JUN2024_0630_stack.tif\""
   ]
  },
  {
   "cell_type": "code",
   "execution_count": null,
   "id": "b6906564",
   "metadata": {},
   "outputs": [],
   "source": [
    "import os\n",
    "\n",
    "files = sorted([f for f in os.listdir('resized/') if f.endswith('_stack.tif')])\n",
    "stacked_list = []\n",
    "\n",
    "for f in files:\n",
    "    path = os.path.join('resized/', f)\n",
    "    with rasterio.open(path) as src:\n",
    "        arr = src.read()\n",
    "        stacked_list.append(src)"
   ]
  },
  {
   "cell_type": "code",
   "execution_count": null,
   "id": "e4901206",
   "metadata": {},
   "outputs": [],
   "source": [
    "directory = 'resized/'\n",
    "pattern = '_stack.tif'"
   ]
  },
  {
   "cell_type": "code",
   "execution_count": null,
   "id": "02082570",
   "metadata": {},
   "outputs": [],
   "source": [
    "from pathlib import Path\n",
    "directory = Path(directory)\n",
    "files = sorted([f for f in directory.iterdir() \n",
    "               if f.is_file() and f.name.endswith(pattern)])\n",
    "if not files:\n",
    "    print(f\"No files found matching pattern '{pattern}' in {directory}\")\n",
    "\n",
    "stacked_arrays = []\n",
    "for file_path in files:\n",
    "    try:\n",
    "        with rasterio.open(file_path) as src:\n",
    "            # Read all bands\n",
    "            arr = src.read()\n",
    "            stacked_arrays.append(arr)\n",
    "            print(f\"Loaded: {file_path.name} - Shape: {arr.shape}\")\n",
    "    except Exception as e:\n",
    "        print(f\"Error loading {file_path}: {e}\")\n",
    "        continue\n",
    "print(f\"Successfully loaded {len(stacked_arrays)} raster files\")"
   ]
  },
  {
   "cell_type": "code",
   "execution_count": null,
   "id": "caba3bb0",
   "metadata": {},
   "outputs": [],
   "source": [
    "stacked_arrays = np.array(stacked_arrays)"
   ]
  },
  {
   "cell_type": "code",
   "execution_count": null,
   "id": "8ef4b8b6",
   "metadata": {},
   "outputs": [],
   "source": [
    "input_len = 4\n",
    "pred_len = 1"
   ]
  },
  {
   "cell_type": "code",
   "execution_count": 29,
   "id": "e64d2e54",
   "metadata": {},
   "outputs": [],
   "source": [
    "T = stacked_arrays.shape[0]\n",
    "N = T - input_len - pred_len + 1\n",
    "X, y = [], []\n",
    "for i in range(N):\n",
    "    X.append(stacked_arrays[i : i + input_len])\n",
    "    y.append(stacked_arrays[i + input_len : i + input_len + pred_len])\n"
   ]
  },
  {
   "cell_type": "code",
   "execution_count": 30,
   "id": "2c8ddc26",
   "metadata": {},
   "outputs": [],
   "source": [
    "sequence = stacked_arrays"
   ]
  },
  {
   "cell_type": "code",
   "execution_count": 31,
   "id": "a6ff894c",
   "metadata": {},
   "outputs": [],
   "source": [
    "def display_grid(stacked_list, file_names, band=0, figsize=(15, 10)):\n",
    "    \"\"\"Display all images in a grid layout.\"\"\"\n",
    "    n_images = len(stacked_list)\n",
    "    cols = min(4, n_images)  # Max 4 columns\n",
    "    rows = (n_images + cols - 1) // cols\n",
    "    \n",
    "    fig, axes = plt.subplots(rows, cols, figsize=figsize)\n",
    "    if n_images == 1:\n",
    "        axes = [axes]\n",
    "    elif rows == 1:\n",
    "        axes = [axes]\n",
    "    else:\n",
    "        axes = axes.flatten()\n",
    "    \n",
    "    for i, (arr, name) in enumerate(zip(stacked_list, file_names)):\n",
    "        # Handle multi-band images - display specified band\n",
    "        if arr.ndim == 3:\n",
    "            img_data = arr[band]  # Select band\n",
    "        else:\n",
    "            img_data = arr\n",
    "            \n",
    "        im = axes[i].imshow(img_data, cmap='viridis')\n",
    "        axes[i].set_title(f'{name}\\nBand {band}')\n",
    "        axes[i].axis('off')\n",
    "        plt.colorbar(im, ax=axes[i], shrink=0.8)\n",
    "    \n",
    "    # Hide empty subplots\n",
    "    for i in range(n_images, len(axes)):\n",
    "        axes[i].axis('off')\n",
    "    \n",
    "    plt.tight_layout()\n",
    "    plt.show()"
   ]
  },
  {
   "cell_type": "code",
   "execution_count": 27,
   "id": "03c11243",
   "metadata": {},
   "outputs": [
    {
     "data": {
      "text/plain": [
       "['18JUN2024_0000_stack.tif',\n",
       " '18JUN2024_0030_stack.tif',\n",
       " '18JUN2024_0100_stack.tif',\n",
       " '18JUN2024_0130_stack.tif',\n",
       " '18JUN2024_0200_stack.tif',\n",
       " '18JUN2024_0230_stack.tif',\n",
       " '18JUN2024_0300_stack.tif',\n",
       " '18JUN2024_0330_stack.tif',\n",
       " '18JUN2024_0400_stack.tif',\n",
       " '18JUN2024_0530_stack.tif',\n",
       " '18JUN2024_0600_stack.tif',\n",
       " '18JUN2024_0630_stack.tif',\n",
       " '18JUN2024_0700_stack.tif',\n",
       " '18JUN2024_0730_stack.tif',\n",
       " '18JUN2024_0800_stack.tif',\n",
       " '18JUN2024_0830_stack.tif',\n",
       " '18JUN2024_1030_stack.tif',\n",
       " '18JUN2024_1100_stack.tif',\n",
       " '18JUN2024_1130_stack.tif',\n",
       " '18JUN2024_1200_stack.tif',\n",
       " '18JUN2024_1230_stack.tif',\n",
       " '18JUN2024_1300_stack.tif',\n",
       " '18JUN2024_1330_stack.tif',\n",
       " '18JUN2024_1400_stack.tif',\n",
       " '18JUN2024_1430_stack.tif',\n",
       " '18JUN2024_1500_stack.tif',\n",
       " '18JUN2024_1530_stack.tif',\n",
       " '18JUN2024_1600_stack.tif']"
      ]
     },
     "execution_count": 27,
     "metadata": {},
     "output_type": "execute_result"
    }
   ],
   "source": [
    "import os\n",
    "file_names = [f for f in os.listdir('resized/') if f.endswith(pattern)]\n",
    "\n",
    "file_names.sort()\n",
    "file_names"
   ]
  },
  {
   "cell_type": "code",
   "execution_count": null,
   "id": "d6b24448",
   "metadata": {},
   "outputs": [
    {
     "ename": "TypeError",
     "evalue": "list indices must be integers or slices, not tuple",
     "output_type": "error",
     "traceback": [
      "\u001b[31m---------------------------------------------------------------------------\u001b[39m",
      "\u001b[31mTypeError\u001b[39m                                 Traceback (most recent call last)",
      "\u001b[36mCell\u001b[39m\u001b[36m \u001b[39m\u001b[32mIn[34]\u001b[39m\u001b[32m, line 1\u001b[39m\n\u001b[32m----> \u001b[39m\u001b[32m1\u001b[39m display_grid(\u001b[43mX\u001b[49m\u001b[43m[\u001b[49m\u001b[32;43m0\u001b[39;49m\u001b[43m,\u001b[49m\u001b[43m:\u001b[49m\u001b[43m]\u001b[49m, file_names)\n",
      "\u001b[31mTypeError\u001b[39m: list indices must be integers or slices, not tuple"
     ]
    }
   ],
   "source": [
    "display_grid(stacked_arrays, file_names)"
   ]
  },
  {
   "cell_type": "code",
   "execution_count": null,
   "id": "7f2af88e",
   "metadata": {},
   "outputs": [],
   "source": [
    "import rasterio \n",
    "\n",
    "with rasterio.open('resized/18JUN2024_0030_stack.tif') as src:\n",
    "    print(src.width, src.height, src.width / src.height)\n"
   ]
  },
  {
   "cell_type": "code",
   "execution_count": null,
   "id": "20f37a0b",
   "metadata": {},
   "outputs": [],
   "source": [
    "scale = 0.25"
   ]
  },
  {
   "cell_type": "code",
   "execution_count": null,
   "id": "749b30df",
   "metadata": {},
   "outputs": [],
   "source": [
    "import os\n",
    "import glob\n",
    "import rasterio\n",
    "from rasterio.transform import Affine\n",
    "from rasterio.enums import Resampling\n",
    "\n",
    "input_folder = \"stacked/\"\n",
    "output_folder = \"resized/\"\n",
    "scale_factor = 0.25\n",
    "\n",
    "for file in glob.glob(os.path.join(input_folder, \"*.tif\")):\n",
    "    with rasterio.open(file) as src:\n",
    "        width = int(src.width * scale_factor)\n",
    "        height = int(src.height * scale_factor)\n",
    "\n",
    "        new_res_x = (src.bounds.right - src.bounds.left) / width\n",
    "        new_res_y = (src.bounds.top - src.bounds.bottom) / height\n",
    "        new_transform = Affine.translation(src.bounds.left, src.bounds.top) * Affine.scale(new_res_x, -new_res_y)\n",
    "\n",
    "        kwargs = src.meta.copy()\n",
    "        kwargs.update({\n",
    "            'transform': new_transform,\n",
    "            'width': width,\n",
    "            'height': height\n",
    "        })\n",
    "\n",
    "        dst_path = os.path.join(output_folder, os.path.basename(file))\n",
    "\n",
    "        with rasterio.open(dst_path, 'w', **kwargs) as dst:\n",
    "            for i in range(1, src.count + 1):\n",
    "                src_data = src.read(\n",
    "                    i,\n",
    "                    out_shape=(height, width),\n",
    "                    resampling=Resampling.bilinear\n",
    "                )\n",
    "                dst.write(src_data, i)\n"
   ]
  },
  {
   "cell_type": "code",
   "execution_count": null,
   "id": "66f6e3e8",
   "metadata": {},
   "outputs": [],
   "source": [
    "import rasterio.plot\n",
    "\n",
    "\n",
    "with rasterio.open('stacked/18JUN2024_0330_stack.tif') as src:\n",
    "    img = src.read(1)\n",
    "    rasterio.plot.show(img)"
   ]
  },
  {
   "cell_type": "code",
   "execution_count": null,
   "id": "683180e8",
   "metadata": {},
   "outputs": [],
   "source": [
    "import numpy as np\n",
    "\n",
    "stacked_array = np.stack([rasterio.open(os.path.join('stacked', f)).read() for f in files])"
   ]
  }
 ],
 "metadata": {
  "kernelspec": {
   "display_name": "preprocessing",
   "language": "python",
   "name": "python3"
  },
  "language_info": {
   "codemirror_mode": {
    "name": "ipython",
    "version": 3
   },
   "file_extension": ".py",
   "mimetype": "text/x-python",
   "name": "python",
   "nbconvert_exporter": "python",
   "pygments_lexer": "ipython3",
   "version": "3.12.6"
  }
 },
 "nbformat": 4,
 "nbformat_minor": 5
}
